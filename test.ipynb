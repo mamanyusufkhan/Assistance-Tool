{
 "cells": [
  {
   "cell_type": "code",
   "execution_count": 12,
   "metadata": {},
   "outputs": [
    {
     "name": "stdout",
     "output_type": "stream",
     "text": [
      "200\n"
     ]
    },
    {
     "data": {
      "text/plain": [
       "{'Valorant Guide': '',\n",
       " 'Find in guide': '',\n",
       " 'Tips and Tricks for New Players': '',\n",
       " 'Know Your Agent': '',\n",
       " 'Choose Your Agent Unlocks Wisely': '',\n",
       " 'The Practice Range is Your Friend': '',\n",
       " 'Dominate the Corners': '',\n",
       " 'Communicate, Communicate, Communicate!': '',\n",
       " 'Buy/Request Weapons from Your Teammates': '',\n",
       " 'Try Editing Your Crosshair': '',\n",
       " 'Play it Slow': '',\n",
       " 'Know When to Buy or Save': '',\n",
       " 'General Tips': '',\n",
       " 'Up Next:Crosshair Settings': '',\n",
       " 'Top Guide Sections': '',\n",
       " 'Was this guide helpful?': '',\n",
       " 'In This Guide': ''}"
      ]
     },
     "execution_count": 12,
     "metadata": {},
     "output_type": "execute_result"
    }
   ],
   "source": [
    "import requests\n",
    "from bs4 import BeautifulSoup\n",
    "\n",
    "# URL to scrape\n",
    "url = \"https://www.ign.com/wikis/valorant/Tips_and_Tricks_for_New_Players\"\n",
    "\n",
    "# Add headers to mimic a web browser\n",
    "headers = {\n",
    "    \"User-Agent\": \"Mozilla/5.0 (Windows NT 10.0; Win64; x64) AppleWebKit/537.36 (KHTML, like Gecko) Chrome/91.0.4472.124 Safari/537.36\"\n",
    "}\n",
    "\n",
    "# Make a request to get the HTML content\n",
    "response = requests.get(url, headers=headers)\n",
    "print(response.status_code)\n",
    "soup = BeautifulSoup(response.content, \"html.parser\")\n",
    "\n",
    "# Find all the headers and corresponding texts\n",
    "headers_and_texts = {}\n",
    "for header in soup.find_all([\"p\",\"h1\", \"h2\", \"h3\", \"h4\"]):  # Adjust based on the structure of the site\n",
    "    header_text = header.get_text(strip=True)\n",
    "    next_node = header.find_next_sibling()\n",
    "    content_text = []\n",
    "    \n",
    "    while next_node and next_node.name not in [\"p\", \"h1\", \"h2\", \"h3\", \"h4\"]:\n",
    "        if next_node.name == \"p\":\n",
    "            content_text.append(next_node.get_text(strip=True))\n",
    "        next_node = next_node.find_next_sibling()\n",
    "    \n",
    "    headers_and_texts[header_text] = \" \".join(content_text)\n",
    "\n",
    "# Print the dictionary\n",
    "headers_and_texts"
   ]
  },
  {
   "cell_type": "code",
   "execution_count": null,
   "metadata": {},
   "outputs": [],
   "source": []
  }
 ],
 "metadata": {
  "kernelspec": {
   "display_name": "Python 3",
   "language": "python",
   "name": "python3"
  },
  "language_info": {
   "codemirror_mode": {
    "name": "ipython",
    "version": 3
   },
   "file_extension": ".py",
   "mimetype": "text/x-python",
   "name": "python",
   "nbconvert_exporter": "python",
   "pygments_lexer": "ipython3",
   "version": "3.11.1"
  }
 },
 "nbformat": 4,
 "nbformat_minor": 2
}
